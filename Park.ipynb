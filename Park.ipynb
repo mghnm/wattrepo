{
    "cells": [
        {
            "metadata": {
                "collapsed": true
            },
            "cell_type": "markdown",
            "source": "# My Jupyter Notebook on IBM Watson Studio"
        },
        {
            "metadata": {},
            "cell_type": "markdown",
            "source": "By __Sallman Ghanem__\n\nData Scientist in the making"
        },
        {
            "metadata": {},
            "cell_type": "markdown",
            "source": "_I am interested in data science due to the ability to understand data better. The amount of data we are recording and collecting will only increase with the arrival of 5G so I want to be well equipped to make it useful._"
        },
        {
            "metadata": {},
            "cell_type": "markdown",
            "source": "### The following code generates a string that looks like a pyramid"
        },
        {
            "metadata": {},
            "cell_type": "code",
            "source": "def pyramid(levels):\n    blockChar = 'IBM'\n    spaces = 2*levels-2\n    \n    for s in range(0,levels):\n        for i in range(0,spaces):\n            print(end=' ') \n        spaces = spaces - 1\n        for j in range(0, s + 1):\n            print(blockChar+' ',end='')\n        print('\\n')\n        \npyramid(5)",
            "execution_count": 51,
            "outputs": [
                {
                    "output_type": "stream",
                    "text": "        IBM \n\n       IBM IBM \n\n      IBM IBM IBM \n\n     IBM IBM IBM IBM \n\n    IBM IBM IBM IBM IBM \n\n",
                    "name": "stdout"
                }
            ]
        },
        {
            "metadata": {},
            "cell_type": "markdown",
            "source": "__To-DO:__\n- Wash Hands\n- Put on mask\n- Walk outside for 5 minutes\n- Come back home\n- Be Happy\n\nVisit: https://www.ecdc.europa.eu/en/covid-19-pandemic for updates on the Covid 19 situation.\n\n__2020-12-11 update:__\n\n| Cases    | Deaths   |\n|:---------|:---------|\n|68,619,110| 1,570,155|"
        },
        {
            "metadata": {},
            "cell_type": "code",
            "source": "",
            "execution_count": null,
            "outputs": []
        }
    ],
    "metadata": {
        "kernelspec": {
            "name": "python3",
            "display_name": "Python 3.7",
            "language": "python"
        },
        "language_info": {
            "name": "python",
            "version": "3.7.9",
            "mimetype": "text/x-python",
            "codemirror_mode": {
                "name": "ipython",
                "version": 3
            },
            "pygments_lexer": "ipython3",
            "nbconvert_exporter": "python",
            "file_extension": ".py"
        }
    },
    "nbformat": 4,
    "nbformat_minor": 1
}